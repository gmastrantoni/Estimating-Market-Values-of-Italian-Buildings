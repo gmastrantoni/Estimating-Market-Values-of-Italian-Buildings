{
 "cells": [
  {
   "cell_type": "code",
   "execution_count": 1,
   "metadata": {},
   "outputs": [],
   "source": [
    "import geopandas as gpd\n",
    "import pandas as pd\n",
    "import numpy as np\n",
    "import os\n",
    "\n",
    "from shapely.geometry import Point"
   ]
  },
  {
   "cell_type": "code",
   "execution_count": 6,
   "metadata": {},
   "outputs": [],
   "source": [
    "#%% Read Data\n",
    "# dbsn buildings\n",
    "buildings = gpd.read_file(\"DBSN/EDIF_MERGED_6875.gpkg\")\n",
    "# omi poly\n",
    "omi_poly = gpd.read_file(\"OMI_2016/OMI_MERGED_6875.gpkg\")\n",
    "# omi values\n",
    "omi_values = pd.read_csv(\"OMI_2016/PROV_ABDAC_201601_VALORI.csv\")\n"
   ]
  },
  {
   "cell_type": "code",
   "execution_count": null,
   "metadata": {},
   "outputs": [],
   "source": [
    "#%%\n",
    "# create macro_use from edific_uso\n",
    "# Merge categories of \"edifc_uso\"\n",
    "def merge_category(cat):\n",
    "    macro_cats = ['01', '02', '03', '04', '05', '06', '07', '08', '09', '10', '11', '12', '95', '93']\n",
    "    for macro in macro_cats:\n",
    "        if cat.startswith(macro):\n",
    "            return macro\n",
    "        else:\n",
    "            pass\n",
    "\n",
    "\n",
    "\n",
    "# spatial join buildings with omi poly --> each buildings must have the corresponding codcom and codzona\n",
    "# Spatial joint between polygon with the largest area of intersection\n",
    "def largest_intersection(gdf_left, gdf_right, mode):\n",
    "    \"\"\"\n",
    "    Take two geodataframes, do a spatial join, and return the polygon \n",
    "    with the largest area of intersection\n",
    "    \"\"\"\n",
    "    out_gdf = gpd.sjoin(gdf_left, gdf_right, how = \"left\", predicate = mode).dropna()\n",
    "    out_gdf['intersection'] = [a.intersection(gdf_right[gdf_right.index == b].geometry.values[0]).area for a, b in zip(out_gdf.geometry.values, out_gdf.index_right)]\n",
    "    out_gdf['index'] = out_gdf.index\n",
    "    out_gdf = out_gdf.sort_values(by='intersection')\n",
    "    out_gdf = out_gdf.drop_duplicates(subset = 'index', keep='last')\n",
    "    out_gdf = out_gdf.sort_values(by='index')\n",
    "    out_gdf = out_gdf.drop(columns=['index_right', 'intersection', 'index'])\n",
    "    \n",
    "    return out_gdf\n",
    "\n",
    "\n",
    "\n",
    "# fill missing values of Compr_mean by type and nearest neighbours (k)\n",
    "def fill_missing_values_by_type(gdf, col, col_type='VAL_Descr_Tipologia', k=3):\n",
    "    # creo empty geodataframe\n",
    "    result_gdf = gpd.GeoDataFrame()\n",
    "    # result_gdf = result_gdf.set_crs(gdf.crs)\n",
    "    # iterate on types\n",
    "    types = gdf[col_type].unique()\n",
    "    for t in types:\n",
    "        print(f'Filling {t}')\n",
    "        filled_gdf_type = gdf.loc[gdf[col_type] == t]\n",
    "        # selezioniamo i record con valore nullo nella colonna \"VAL_Compr_min\"\n",
    "        null_rows = filled_gdf_type.loc[filled_gdf_type[col].isnull()]\n",
    "        # iteriamo sui record con valore nullo\n",
    "        for idx, row in null_rows.iterrows():\n",
    "            # selezioniamo i tre poligoni più vicini al punto di interesse\n",
    "            point = Point(row[\"geometry\"].centroid.x, row[\"geometry\"].centroid.y)\n",
    "            distances = filled_gdf_type.distance(point)\n",
    "            nearest_poly_indices = distances.sort_values().index[:k]\n",
    "            \n",
    "            # calcoliamo la media dei valori \"VAL_Compr_min\" dei tre poligoni vicini\n",
    "            nearest_vals = filled_gdf_type[~filled_gdf_type.index.isin([idx]) & filled_gdf_type.index.isin(nearest_poly_indices)][col]\n",
    "            mean_val = nearest_vals.mean()\n",
    "            \n",
    "            # sostituiamo il valore nullo con la media dei valori dei poligoni vicini\n",
    "            filled_gdf_type.loc[idx, col] = mean_val\n",
    "            # check remaining NANs and fill them with mean value of the series.\n",
    "        mean_by_col_type = filled_gdf_type[col].mean()\n",
    "        filled_gdf_type[col] = filled_gdf_type[col].fillna(mean_by_col_type)\n",
    "    \n",
    "        # append to results\n",
    "        # result_gdf = result_gdf.append(filled_gdf_type)\n",
    "        result_gdf = pd.concat([result_gdf, filled_gdf_type])\n",
    "    return result_gdf"
   ]
  },
  {
   "cell_type": "code",
   "execution_count": null,
   "metadata": {},
   "outputs": [],
   "source": [
    "buildings['edifc_uso_macro'] = buildings['edifc_uso'].apply(merge_category)\n",
    "buildings = buildings.reset_index()"
   ]
  },
  {
   "cell_type": "code",
   "execution_count": null,
   "metadata": {},
   "outputs": [],
   "source": [
    "# spatial join one-to-one BUILD with omi_codzona\n",
    "buildings_codzona = largest_intersection(buildings, omi_poly, 'intersects')\n",
    "\n",
    "# drop \"Name\", \"LINKZONA\", \"layer\", \"classid\", \"edifc_stat\", \"level_0\"\n",
    "buildings_codzona = buildings_codzona.drop(columns = [\"Name\", \"LINKZONA\", \"layer\", \"classid\", \"edifc_stat\"])\n",
    "\n",
    "# SAVE GDF\n",
    "# buildings_codzona.to_file(\"DBSN/buildings_codzona.gpkg\", driver='GPKG')\n"
   ]
  },
  {
   "cell_type": "code",
   "execution_count": null,
   "metadata": {},
   "outputs": [],
   "source": [
    "# map edific_uso and Descr_tipologia\n",
    "# corrispondenze valori edifc_uso, VAL_Cod_Tip\n",
    "edifc_uso_map = {'01':'Abitazioni civili',\n",
    "                 '02':'Uffici',\n",
    "                  '03': 'Abitazioni di tipo economico',\n",
    "                 # '03': 'Uffici',\n",
    "                 '04': 'Uffici',\n",
    "                 '05': 'Culto',\n",
    "                 '06': 'Abitazioni di tipo economico',\n",
    "                 '07': 'Negozi',\n",
    "                 '08': 'Capannoni industriali',\n",
    "                 '09': 'Capannoni tipici',\n",
    "                 '10': 'Abitazioni di tipo economico', # o abitazioni civili\n",
    "                 '11': 'Abitazioni di tipo economico',\n",
    "                 '12': 'Abitazioni di tipo economico', # o abitazioni civili\n",
    "                 '95':'Abitazioni civili',\n",
    "                 '93':'Abitazioni civili'}\n",
    "\n",
    "buildings_codzona['Descr_Tipologia'] = buildings_codzona['edifc_uso_macro'].map(edifc_uso_map)"
   ]
  },
  {
   "cell_type": "code",
   "execution_count": null,
   "metadata": {},
   "outputs": [],
   "source": [
    "# calculate \"Compr_mean\" col from \"Compr_min\" and \"Compr_max\"\n",
    "omi_values['Compr_mean'] = (omi_values['Compr_max'] + omi_values['Compr_min']) / 2\n",
    "# rename cols in omi_values and select cols to keep\n",
    "new_cols = {\"Comune_amm\": \"CODCOM\", \"Zona\":\"CODZONA\"}\n",
    "omi_values = omi_values.rename(columns=new_cols)\n",
    "cols_to_keep = ['Regione','Prov','CODCOM','CODZONA','Descr_Tipologia', 'Cod_Tip', 'Compr_mean']\n",
    "omi_values_keep = omi_values[cols_to_keep]"
   ]
  },
  {
   "cell_type": "code",
   "execution_count": null,
   "metadata": {},
   "outputs": [],
   "source": [
    "# MERGE [VAL_Compr_min, VAL_Compr_max] on [CODZONA, Cod_Tip, Descr_Tipologia]\n",
    "    # Create unique ID for buildings\n",
    "buildings_codzona['ID'] = range(1, len(buildings_codzona) + 1)\n",
    "\n",
    "buildings_w_val = buildings_codzona.merge(omi_values_keep, on=['CODCOM','CODZONA','Descr_Tipologia'], how='left')\n",
    "\n",
    "# sort values and drop_duplicates keeping last\n",
    "buildings_w_val = buildings_w_val.sort_values(by=['ID', 'Compr_mean']).drop_duplicates(subset=['ID'], keep='last')\n"
   ]
  },
  {
   "cell_type": "code",
   "execution_count": null,
   "metadata": {},
   "outputs": [],
   "source": [
    "buildings_w_val_filled = fill_missing_values_by_type(buildings_w_val, 'Compr_mean', col_type='Descr_Tipologia', k=5)"
   ]
  },
  {
   "cell_type": "code",
   "execution_count": null,
   "metadata": {},
   "outputs": [],
   "source": [
    "# Save GDF\n",
    "buildings_w_val.to_file(\"RESULTS/buildings_w_values.gpkg\", driver='GPKG')\n",
    "buildings_w_val_filled.to_file(\"RESULTS/buildings_w_values_filled.gpkg\", driver='GPKG')"
   ]
  }
 ],
 "metadata": {
  "kernelspec": {
   "display_name": "geospatial",
   "language": "python",
   "name": "python3"
  },
  "language_info": {
   "codemirror_mode": {
    "name": "ipython",
    "version": 3
   },
   "file_extension": ".py",
   "mimetype": "text/x-python",
   "name": "python",
   "nbconvert_exporter": "python",
   "pygments_lexer": "ipython3",
   "version": "3.11.8"
  }
 },
 "nbformat": 4,
 "nbformat_minor": 2
}
